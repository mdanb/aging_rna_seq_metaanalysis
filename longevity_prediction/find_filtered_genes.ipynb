{
 "cells": [
  {
   "cell_type": "code",
   "execution_count": 80,
   "metadata": {},
   "outputs": [],
   "source": [
    "from goatools import obo_parser\n",
    "import os\n",
    "import wget\n",
    "import pandas as pd\n",
    "import re"
   ]
  },
  {
   "cell_type": "code",
   "execution_count": 81,
   "metadata": {},
   "outputs": [],
   "source": [
    "go_obo_url = 'http://purl.obolibrary.org/obo/go/go-basic.obo'\n",
    "folder = os.getcwd()\n",
    "\n",
    "if(not os.path.isfile('./go-basic.obo')):\n",
    "    go_obo = wget.download(go_obo_url, 'go-basic.obo')\n",
    "else:\n",
    "    go_obo = 'go-basic.obo'"
   ]
  },
  {
   "cell_type": "code",
   "execution_count": 82,
   "metadata": {},
   "outputs": [
    {
     "name": "stdout",
     "output_type": "stream",
     "text": [
      "go-basic.obo: fmt(1.2) rel(2021-06-16) 47,230 GO Terms\n"
     ]
    }
   ],
   "source": [
    "go = obo_parser.GODag(go_obo)"
   ]
  },
  {
   "cell_type": "code",
   "execution_count": 83,
   "metadata": {},
   "outputs": [],
   "source": [
    "relevant_go_terms = set()"
   ]
  },
  {
   "cell_type": "code",
   "execution_count": 84,
   "metadata": {},
   "outputs": [],
   "source": [
    "regex = re.compile(r\"\\b(aging|longevity|lifespan|senescence|stress|ageing|cell death|age)\\b\", re.IGNORECASE)"
   ]
  },
  {
   "cell_type": "code",
   "execution_count": 85,
   "metadata": {},
   "outputs": [],
   "source": [
    "for go_term in go.values():\n",
    "    if (regex.search(go_term.name)):\n",
    "        relevant_go_terms.add(go_term.id)"
   ]
  },
  {
   "cell_type": "code",
   "execution_count": 86,
   "metadata": {},
   "outputs": [],
   "source": [
    "all_children = []"
   ]
  },
  {
   "cell_type": "code",
   "execution_count": 87,
   "metadata": {},
   "outputs": [],
   "source": [
    "for term in relevant_go_terms:\n",
    "    all_children.append(go[term].get_all_children())"
   ]
  },
  {
   "cell_type": "code",
   "execution_count": 88,
   "metadata": {},
   "outputs": [],
   "source": [
    "for children in all_children:\n",
    "    for child in children:\n",
    "        relevant_go_terms.add(child)"
   ]
  },
  {
   "cell_type": "code",
   "execution_count": 89,
   "metadata": {},
   "outputs": [],
   "source": [
    "from Bio.UniProt.GOA import gafiterator\n",
    "import gzip\n",
    "\n",
    "filename = './data/datastore/wb.gaf.gz'\n",
    "\n",
    "relevant_genes = set()\n",
    "with gzip.open(filename, 'rt') as fp:\n",
    "    for annotation in gafiterator(fp):\n",
    "        if (annotation['GO_ID'] in relevant_go_terms \n",
    "            and annotation['DB_Object_ID'][0:6] == \"WBGene\"):\n",
    "                relevant_genes.add(annotation['DB_Object_ID'])"
   ]
  },
  {
   "cell_type": "code",
   "execution_count": 90,
   "metadata": {},
   "outputs": [],
   "source": [
    "gene_expression_data = pd.read_csv(\"../common_datastore/raw_gene_expression_no_outliers_and_singles_for_GO_filtering.csv\")"
   ]
  },
  {
   "cell_type": "code",
   "execution_count": 91,
   "metadata": {},
   "outputs": [],
   "source": [
    "gene_expression_data.columns = ['Sample'] + list(gene_expression_data.columns[1:])\n",
    "gene_expression_data.set_index(\"Sample\", inplace=True)"
   ]
  },
  {
   "cell_type": "code",
   "execution_count": 92,
   "metadata": {},
   "outputs": [],
   "source": [
    "relevant_genes = [gene for gene in relevant_genes if gene in gene_expression_data.index]"
   ]
  },
  {
   "cell_type": "code",
   "execution_count": 93,
   "metadata": {},
   "outputs": [],
   "source": [
    "filtered = gene_expression_data.loc[relevant_genes, :]"
   ]
  },
  {
   "cell_type": "code",
   "execution_count": 94,
   "metadata": {},
   "outputs": [],
   "source": [
    "filtered.to_csv(\"../common_datastore/GO_filtered_raw_gene_expression_data.csv\")"
   ]
  }
 ],
 "metadata": {
  "kernelspec": {
   "display_name": "Python 3",
   "language": "python",
   "name": "python3"
  },
  "language_info": {
   "codemirror_mode": {
    "name": "ipython",
    "version": 3
   },
   "file_extension": ".py",
   "mimetype": "text/x-python",
   "name": "python",
   "nbconvert_exporter": "python",
   "pygments_lexer": "ipython3",
   "version": "3.8.10"
  }
 },
 "nbformat": 4,
 "nbformat_minor": 4
}
